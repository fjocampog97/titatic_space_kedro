{
 "cells": [
  {
   "cell_type": "code",
   "execution_count": 228,
   "outputs": [
    {
     "name": "stdout",
     "output_type": "stream",
     "text": [
      "Requirement already satisfied: seaborn in c:\\users\\camara22\\miniconda3\\envs\\titanicspace\\lib\\site-packages (0.11.2)\n",
      "Requirement already satisfied: pandas>=0.23 in c:\\users\\camara22\\miniconda3\\envs\\titanicspace\\lib\\site-packages (from seaborn) (1.4.4)\n",
      "Requirement already satisfied: scipy>=1.0 in c:\\users\\camara22\\miniconda3\\envs\\titanicspace\\lib\\site-packages (from seaborn) (1.9.2)\n",
      "Requirement already satisfied: matplotlib>=2.2 in c:\\users\\camara22\\miniconda3\\envs\\titanicspace\\lib\\site-packages (from seaborn) (3.5.3)\n",
      "Requirement already satisfied: numpy>=1.15 in c:\\users\\camara22\\miniconda3\\envs\\titanicspace\\lib\\site-packages (from seaborn) (1.23.3)\n",
      "Requirement already satisfied: packaging>=20.0 in c:\\users\\camara22\\miniconda3\\envs\\titanicspace\\lib\\site-packages (from matplotlib>=2.2->seaborn) (21.3)\n",
      "Requirement already satisfied: pillow>=6.2.0 in c:\\users\\camara22\\miniconda3\\envs\\titanicspace\\lib\\site-packages (from matplotlib>=2.2->seaborn) (9.2.0)\n",
      "Requirement already satisfied: fonttools>=4.22.0 in c:\\users\\camara22\\miniconda3\\envs\\titanicspace\\lib\\site-packages (from matplotlib>=2.2->seaborn) (4.37.4)\n",
      "Requirement already satisfied: python-dateutil>=2.7 in c:\\users\\camara22\\miniconda3\\envs\\titanicspace\\lib\\site-packages (from matplotlib>=2.2->seaborn) (2.8.2)\n",
      "Requirement already satisfied: pyparsing>=2.2.1 in c:\\users\\camara22\\miniconda3\\envs\\titanicspace\\lib\\site-packages (from matplotlib>=2.2->seaborn) (3.0.9)\n",
      "Requirement already satisfied: cycler>=0.10 in c:\\users\\camara22\\miniconda3\\envs\\titanicspace\\lib\\site-packages (from matplotlib>=2.2->seaborn) (0.11.0)\n",
      "Requirement already satisfied: kiwisolver>=1.0.1 in c:\\users\\camara22\\miniconda3\\envs\\titanicspace\\lib\\site-packages (from matplotlib>=2.2->seaborn) (1.4.4)\n",
      "Requirement already satisfied: pytz>=2020.1 in c:\\users\\camara22\\miniconda3\\envs\\titanicspace\\lib\\site-packages (from pandas>=0.23->seaborn) (2022.4)\n",
      "Requirement already satisfied: six>=1.5 in c:\\users\\camara22\\miniconda3\\envs\\titanicspace\\lib\\site-packages (from python-dateutil>=2.7->matplotlib>=2.2->seaborn) (1.16.0)\n",
      "Requirement already satisfied: pandas in c:\\users\\camara22\\miniconda3\\envs\\titanicspace\\lib\\site-packages (1.4.4)\n",
      "Requirement already satisfied: pytz>=2020.1 in c:\\users\\camara22\\miniconda3\\envs\\titanicspace\\lib\\site-packages (from pandas) (2022.4)\n",
      "Requirement already satisfied: python-dateutil>=2.8.1 in c:\\users\\camara22\\miniconda3\\envs\\titanicspace\\lib\\site-packages (from pandas) (2.8.2)\n",
      "Requirement already satisfied: numpy>=1.18.5 in c:\\users\\camara22\\miniconda3\\envs\\titanicspace\\lib\\site-packages (from pandas) (1.23.3)\n",
      "Requirement already satisfied: six>=1.5 in c:\\users\\camara22\\miniconda3\\envs\\titanicspace\\lib\\site-packages (from python-dateutil>=2.8.1->pandas) (1.16.0)\n",
      "Requirement already satisfied: sklearn in c:\\users\\camara22\\miniconda3\\envs\\titanicspace\\lib\\site-packages (0.0)\n",
      "Requirement already satisfied: scikit-learn in c:\\users\\camara22\\miniconda3\\envs\\titanicspace\\lib\\site-packages (from sklearn) (1.1.2)\n",
      "Requirement already satisfied: scipy>=1.3.2 in c:\\users\\camara22\\miniconda3\\envs\\titanicspace\\lib\\site-packages (from scikit-learn->sklearn) (1.9.2)\n",
      "Requirement already satisfied: threadpoolctl>=2.0.0 in c:\\users\\camara22\\miniconda3\\envs\\titanicspace\\lib\\site-packages (from scikit-learn->sklearn) (3.1.0)\n",
      "Requirement already satisfied: numpy>=1.17.3 in c:\\users\\camara22\\miniconda3\\envs\\titanicspace\\lib\\site-packages (from scikit-learn->sklearn) (1.23.3)\n",
      "Requirement already satisfied: joblib>=1.0.0 in c:\\users\\camara22\\miniconda3\\envs\\titanicspace\\lib\\site-packages (from scikit-learn->sklearn) (1.1.1)\n",
      "Requirement already satisfied: numpy in c:\\users\\camara22\\miniconda3\\envs\\titanicspace\\lib\\site-packages (1.23.3)\n",
      "Requirement already satisfied: matplotlib in c:\\users\\camara22\\miniconda3\\envs\\titanicspace\\lib\\site-packages (3.5.3)\n",
      "Requirement already satisfied: packaging>=20.0 in c:\\users\\camara22\\miniconda3\\envs\\titanicspace\\lib\\site-packages (from matplotlib) (21.3)\n",
      "Requirement already satisfied: pyparsing>=2.2.1 in c:\\users\\camara22\\miniconda3\\envs\\titanicspace\\lib\\site-packages (from matplotlib) (3.0.9)\n",
      "Requirement already satisfied: kiwisolver>=1.0.1 in c:\\users\\camara22\\miniconda3\\envs\\titanicspace\\lib\\site-packages (from matplotlib) (1.4.4)\n",
      "Requirement already satisfied: python-dateutil>=2.7 in c:\\users\\camara22\\miniconda3\\envs\\titanicspace\\lib\\site-packages (from matplotlib) (2.8.2)\n",
      "Requirement already satisfied: pillow>=6.2.0 in c:\\users\\camara22\\miniconda3\\envs\\titanicspace\\lib\\site-packages (from matplotlib) (9.2.0)\n",
      "Requirement already satisfied: cycler>=0.10 in c:\\users\\camara22\\miniconda3\\envs\\titanicspace\\lib\\site-packages (from matplotlib) (0.11.0)\n",
      "Requirement already satisfied: numpy>=1.17 in c:\\users\\camara22\\miniconda3\\envs\\titanicspace\\lib\\site-packages (from matplotlib) (1.23.3)\n",
      "Requirement already satisfied: fonttools>=4.22.0 in c:\\users\\camara22\\miniconda3\\envs\\titanicspace\\lib\\site-packages (from matplotlib) (4.37.4)\n",
      "Requirement already satisfied: six>=1.5 in c:\\users\\camara22\\miniconda3\\envs\\titanicspace\\lib\\site-packages (from python-dateutil>=2.7->matplotlib) (1.16.0)\n"
     ]
    }
   ],
   "source": [
    "!pip install seaborn\n",
    "!pip install pandas\n",
    "!pip install sklearn\n",
    "!pip install numpy\n",
    "!pip install matplotlib\n"
   ],
   "metadata": {
    "collapsed": false
   }
  },
  {
   "cell_type": "code",
   "execution_count": 229,
   "outputs": [
    {
     "name": "stdout",
     "output_type": "stream",
     "text": [
      "Requirement already satisfied: pandas-profiling in c:\\users\\camara22\\miniconda3\\envs\\titanicspace\\lib\\site-packages (3.3.0)\n",
      "Requirement already satisfied: scipy<1.10,>=1.4.1 in c:\\users\\camara22\\miniconda3\\envs\\titanicspace\\lib\\site-packages (from pandas-profiling) (1.9.2)\n",
      "Requirement already satisfied: missingno<0.6,>=0.4.2 in c:\\users\\camara22\\miniconda3\\envs\\titanicspace\\lib\\site-packages (from pandas-profiling) (0.5.1)\n",
      "Requirement already satisfied: seaborn<0.12,>=0.10.1 in c:\\users\\camara22\\miniconda3\\envs\\titanicspace\\lib\\site-packages (from pandas-profiling) (0.11.2)\n",
      "Requirement already satisfied: statsmodels<0.14,>=0.13.2 in c:\\users\\camara22\\miniconda3\\envs\\titanicspace\\lib\\site-packages (from pandas-profiling) (0.13.2)\n",
      "Requirement already satisfied: pandas!=1.4.0,<1.5,>1.1 in c:\\users\\camara22\\miniconda3\\envs\\titanicspace\\lib\\site-packages (from pandas-profiling) (1.4.4)\n",
      "Requirement already satisfied: PyYAML<6.1,>=5.0.0 in c:\\users\\camara22\\miniconda3\\envs\\titanicspace\\lib\\site-packages (from pandas-profiling) (6.0)\n",
      "Requirement already satisfied: phik<0.13,>=0.11.1 in c:\\users\\camara22\\miniconda3\\envs\\titanicspace\\lib\\site-packages (from pandas-profiling) (0.12.2)\n",
      "Requirement already satisfied: htmlmin==0.1.12 in c:\\users\\camara22\\miniconda3\\envs\\titanicspace\\lib\\site-packages (from pandas-profiling) (0.1.12)\n",
      "Requirement already satisfied: matplotlib<3.6,>=3.2 in c:\\users\\camara22\\miniconda3\\envs\\titanicspace\\lib\\site-packages (from pandas-profiling) (3.5.3)\n",
      "Requirement already satisfied: jinja2<3.2,>=2.11.1 in c:\\users\\camara22\\miniconda3\\envs\\titanicspace\\lib\\site-packages (from pandas-profiling) (3.1.2)\n",
      "Requirement already satisfied: multimethod<1.9,>=1.4 in c:\\users\\camara22\\miniconda3\\envs\\titanicspace\\lib\\site-packages (from pandas-profiling) (1.8)\n",
      "Requirement already satisfied: requests<2.29,>=2.24.0 in c:\\users\\camara22\\miniconda3\\envs\\titanicspace\\lib\\site-packages (from pandas-profiling) (2.25.1)\n",
      "Requirement already satisfied: tangled-up-in-unicode==0.2.0 in c:\\users\\camara22\\miniconda3\\envs\\titanicspace\\lib\\site-packages (from pandas-profiling) (0.2.0)\n",
      "Requirement already satisfied: numpy<1.24,>=1.16.0 in c:\\users\\camara22\\miniconda3\\envs\\titanicspace\\lib\\site-packages (from pandas-profiling) (1.23.3)\n",
      "Requirement already satisfied: pydantic<1.10,>=1.8.1 in c:\\users\\camara22\\miniconda3\\envs\\titanicspace\\lib\\site-packages (from pandas-profiling) (1.9.2)\n",
      "Requirement already satisfied: visions[type_image_path]==0.7.5 in c:\\users\\camara22\\miniconda3\\envs\\titanicspace\\lib\\site-packages (from pandas-profiling) (0.7.5)\n",
      "Requirement already satisfied: tqdm<4.65,>=4.48.2 in c:\\users\\camara22\\miniconda3\\envs\\titanicspace\\lib\\site-packages (from pandas-profiling) (4.64.1)\n",
      "Requirement already satisfied: joblib~=1.1.0 in c:\\users\\camara22\\miniconda3\\envs\\titanicspace\\lib\\site-packages (from pandas-profiling) (1.1.1)\n",
      "Requirement already satisfied: attrs>=19.3.0 in c:\\users\\camara22\\miniconda3\\envs\\titanicspace\\lib\\site-packages (from visions[type_image_path]==0.7.5->pandas-profiling) (21.4.0)\n",
      "Requirement already satisfied: networkx>=2.4 in c:\\users\\camara22\\miniconda3\\envs\\titanicspace\\lib\\site-packages (from visions[type_image_path]==0.7.5->pandas-profiling) (2.8.7)\n",
      "Requirement already satisfied: imagehash in c:\\users\\camara22\\miniconda3\\envs\\titanicspace\\lib\\site-packages (from visions[type_image_path]==0.7.5->pandas-profiling) (4.3.1)\n",
      "Requirement already satisfied: Pillow in c:\\users\\camara22\\miniconda3\\envs\\titanicspace\\lib\\site-packages (from visions[type_image_path]==0.7.5->pandas-profiling) (9.2.0)\n",
      "Requirement already satisfied: MarkupSafe>=2.0 in c:\\users\\camara22\\miniconda3\\envs\\titanicspace\\lib\\site-packages (from jinja2<3.2,>=2.11.1->pandas-profiling) (2.1.1)\n",
      "Requirement already satisfied: packaging>=20.0 in c:\\users\\camara22\\miniconda3\\envs\\titanicspace\\lib\\site-packages (from matplotlib<3.6,>=3.2->pandas-profiling) (21.3)\n",
      "Requirement already satisfied: kiwisolver>=1.0.1 in c:\\users\\camara22\\miniconda3\\envs\\titanicspace\\lib\\site-packages (from matplotlib<3.6,>=3.2->pandas-profiling) (1.4.4)\n",
      "Requirement already satisfied: fonttools>=4.22.0 in c:\\users\\camara22\\miniconda3\\envs\\titanicspace\\lib\\site-packages (from matplotlib<3.6,>=3.2->pandas-profiling) (4.37.4)\n",
      "Requirement already satisfied: cycler>=0.10 in c:\\users\\camara22\\miniconda3\\envs\\titanicspace\\lib\\site-packages (from matplotlib<3.6,>=3.2->pandas-profiling) (0.11.0)\n",
      "Requirement already satisfied: pyparsing>=2.2.1 in c:\\users\\camara22\\miniconda3\\envs\\titanicspace\\lib\\site-packages (from matplotlib<3.6,>=3.2->pandas-profiling) (3.0.9)\n",
      "Requirement already satisfied: python-dateutil>=2.7 in c:\\users\\camara22\\miniconda3\\envs\\titanicspace\\lib\\site-packages (from matplotlib<3.6,>=3.2->pandas-profiling) (2.8.2)\n",
      "Requirement already satisfied: pytz>=2020.1 in c:\\users\\camara22\\miniconda3\\envs\\titanicspace\\lib\\site-packages (from pandas!=1.4.0,<1.5,>1.1->pandas-profiling) (2022.4)\n",
      "Requirement already satisfied: typing-extensions>=3.7.4.3 in c:\\users\\camara22\\miniconda3\\envs\\titanicspace\\lib\\site-packages (from pydantic<1.10,>=1.8.1->pandas-profiling) (4.4.0)\n",
      "Requirement already satisfied: chardet<5,>=3.0.2 in c:\\users\\camara22\\miniconda3\\envs\\titanicspace\\lib\\site-packages (from requests<2.29,>=2.24.0->pandas-profiling) (4.0.0)\n",
      "Requirement already satisfied: certifi>=2017.4.17 in c:\\users\\camara22\\miniconda3\\envs\\titanicspace\\lib\\site-packages (from requests<2.29,>=2.24.0->pandas-profiling) (2022.9.24)\n",
      "Requirement already satisfied: idna<3,>=2.5 in c:\\users\\camara22\\miniconda3\\envs\\titanicspace\\lib\\site-packages (from requests<2.29,>=2.24.0->pandas-profiling) (2.10)\n",
      "Requirement already satisfied: urllib3<1.27,>=1.21.1 in c:\\users\\camara22\\miniconda3\\envs\\titanicspace\\lib\\site-packages (from requests<2.29,>=2.24.0->pandas-profiling) (1.26.12)\n",
      "Requirement already satisfied: patsy>=0.5.2 in c:\\users\\camara22\\miniconda3\\envs\\titanicspace\\lib\\site-packages (from statsmodels<0.14,>=0.13.2->pandas-profiling) (0.5.3)\n",
      "Requirement already satisfied: colorama in c:\\users\\camara22\\miniconda3\\envs\\titanicspace\\lib\\site-packages (from tqdm<4.65,>=4.48.2->pandas-profiling) (0.4.5)\n",
      "Requirement already satisfied: six in c:\\users\\camara22\\miniconda3\\envs\\titanicspace\\lib\\site-packages (from patsy>=0.5.2->statsmodels<0.14,>=0.13.2->pandas-profiling) (1.16.0)\n",
      "Requirement already satisfied: PyWavelets in c:\\users\\camara22\\miniconda3\\envs\\titanicspace\\lib\\site-packages (from imagehash->visions[type_image_path]==0.7.5->pandas-profiling) (1.4.1)\n"
     ]
    }
   ],
   "source": [
    "!pip install pandas-profiling"
   ],
   "metadata": {
    "collapsed": false
   }
  },
  {
   "cell_type": "code",
   "execution_count": 230,
   "outputs": [],
   "source": [
    "from pandas_profiling import ProfileReport"
   ],
   "metadata": {
    "collapsed": false
   }
  },
  {
   "cell_type": "code",
   "execution_count": 231,
   "outputs": [],
   "source": [
    "from sklearn.preprocessing import OrdinalEncoder"
   ],
   "metadata": {
    "collapsed": false
   }
  },
  {
   "cell_type": "code",
   "execution_count": 232,
   "outputs": [],
   "source": [
    "import numpy as np\n",
    "import pandas as pd\n",
    "import sklearn\n",
    "import matplotlib.pyplot as plt\n",
    "import seaborn as sns"
   ],
   "metadata": {
    "collapsed": false
   }
  },
  {
   "cell_type": "code",
   "execution_count": 233,
   "outputs": [],
   "source": [
    "from sklearn.metrics import confusion_matrix\n",
    "from sklearn.metrics import classification_report\n",
    "from sklearn.model_selection import train_test_split\n",
    "from sklearn.linear_model import LogisticRegression\n",
    "from sklearn.decomposition import PCA\n",
    "from sklearn.tree import DecisionTreeClassifier"
   ],
   "metadata": {
    "collapsed": false
   }
  },
  {
   "cell_type": "code",
   "execution_count": 234,
   "metadata": {
    "collapsed": true
   },
   "outputs": [],
   "source": [
    "df = pd.read_csv(\"../data/01_raw/train.csv\")"
   ]
  },
  {
   "cell_type": "code",
   "execution_count": 235,
   "outputs": [
    {
     "data": {
      "text/plain": "  PassengerId HomePlanet CryoSleep  Cabin    Destination   Age    VIP  \\\n0     0001_01     Europa     False  B/0/P    TRAPPIST-1e  39.0  False   \n1     0002_01      Earth     False  F/0/S    TRAPPIST-1e  24.0  False   \n2     0003_01     Europa     False  A/0/S    TRAPPIST-1e  58.0   True   \n3     0003_02     Europa     False  A/0/S    TRAPPIST-1e  33.0  False   \n4     0004_01      Earth     False  F/1/S    TRAPPIST-1e  16.0  False   \n5     0005_01      Earth     False  F/0/P  PSO J318.5-22  44.0  False   \n6     0006_01      Earth     False  F/2/S    TRAPPIST-1e  26.0  False   \n7     0006_02      Earth      True  G/0/S    TRAPPIST-1e  28.0  False   \n8     0007_01      Earth     False  F/3/S    TRAPPIST-1e  35.0  False   \n9     0008_01     Europa      True  B/1/P    55 Cancri e  14.0  False   \n\n   RoomService  FoodCourt  ShoppingMall     Spa  VRDeck                Name  \\\n0          0.0        0.0           0.0     0.0     0.0     Maham Ofracculy   \n1        109.0        9.0          25.0   549.0    44.0        Juanna Vines   \n2         43.0     3576.0           0.0  6715.0    49.0       Altark Susent   \n3          0.0     1283.0         371.0  3329.0   193.0        Solam Susent   \n4        303.0       70.0         151.0   565.0     2.0   Willy Santantines   \n5          0.0      483.0           0.0   291.0     0.0   Sandie Hinetthews   \n6         42.0     1539.0           3.0     0.0     0.0  Billex Jacostaffey   \n7          0.0        0.0           0.0     0.0     NaN  Candra Jacostaffey   \n8          0.0      785.0          17.0   216.0     0.0       Andona Beston   \n9          0.0        0.0           0.0     0.0     0.0      Erraiam Flatic   \n\n   Transported  \n0        False  \n1         True  \n2        False  \n3        False  \n4         True  \n5         True  \n6         True  \n7         True  \n8         True  \n9         True  ",
      "text/html": "<div>\n<style scoped>\n    .dataframe tbody tr th:only-of-type {\n        vertical-align: middle;\n    }\n\n    .dataframe tbody tr th {\n        vertical-align: top;\n    }\n\n    .dataframe thead th {\n        text-align: right;\n    }\n</style>\n<table border=\"1\" class=\"dataframe\">\n  <thead>\n    <tr style=\"text-align: right;\">\n      <th></th>\n      <th>PassengerId</th>\n      <th>HomePlanet</th>\n      <th>CryoSleep</th>\n      <th>Cabin</th>\n      <th>Destination</th>\n      <th>Age</th>\n      <th>VIP</th>\n      <th>RoomService</th>\n      <th>FoodCourt</th>\n      <th>ShoppingMall</th>\n      <th>Spa</th>\n      <th>VRDeck</th>\n      <th>Name</th>\n      <th>Transported</th>\n    </tr>\n  </thead>\n  <tbody>\n    <tr>\n      <th>0</th>\n      <td>0001_01</td>\n      <td>Europa</td>\n      <td>False</td>\n      <td>B/0/P</td>\n      <td>TRAPPIST-1e</td>\n      <td>39.0</td>\n      <td>False</td>\n      <td>0.0</td>\n      <td>0.0</td>\n      <td>0.0</td>\n      <td>0.0</td>\n      <td>0.0</td>\n      <td>Maham Ofracculy</td>\n      <td>False</td>\n    </tr>\n    <tr>\n      <th>1</th>\n      <td>0002_01</td>\n      <td>Earth</td>\n      <td>False</td>\n      <td>F/0/S</td>\n      <td>TRAPPIST-1e</td>\n      <td>24.0</td>\n      <td>False</td>\n      <td>109.0</td>\n      <td>9.0</td>\n      <td>25.0</td>\n      <td>549.0</td>\n      <td>44.0</td>\n      <td>Juanna Vines</td>\n      <td>True</td>\n    </tr>\n    <tr>\n      <th>2</th>\n      <td>0003_01</td>\n      <td>Europa</td>\n      <td>False</td>\n      <td>A/0/S</td>\n      <td>TRAPPIST-1e</td>\n      <td>58.0</td>\n      <td>True</td>\n      <td>43.0</td>\n      <td>3576.0</td>\n      <td>0.0</td>\n      <td>6715.0</td>\n      <td>49.0</td>\n      <td>Altark Susent</td>\n      <td>False</td>\n    </tr>\n    <tr>\n      <th>3</th>\n      <td>0003_02</td>\n      <td>Europa</td>\n      <td>False</td>\n      <td>A/0/S</td>\n      <td>TRAPPIST-1e</td>\n      <td>33.0</td>\n      <td>False</td>\n      <td>0.0</td>\n      <td>1283.0</td>\n      <td>371.0</td>\n      <td>3329.0</td>\n      <td>193.0</td>\n      <td>Solam Susent</td>\n      <td>False</td>\n    </tr>\n    <tr>\n      <th>4</th>\n      <td>0004_01</td>\n      <td>Earth</td>\n      <td>False</td>\n      <td>F/1/S</td>\n      <td>TRAPPIST-1e</td>\n      <td>16.0</td>\n      <td>False</td>\n      <td>303.0</td>\n      <td>70.0</td>\n      <td>151.0</td>\n      <td>565.0</td>\n      <td>2.0</td>\n      <td>Willy Santantines</td>\n      <td>True</td>\n    </tr>\n    <tr>\n      <th>5</th>\n      <td>0005_01</td>\n      <td>Earth</td>\n      <td>False</td>\n      <td>F/0/P</td>\n      <td>PSO J318.5-22</td>\n      <td>44.0</td>\n      <td>False</td>\n      <td>0.0</td>\n      <td>483.0</td>\n      <td>0.0</td>\n      <td>291.0</td>\n      <td>0.0</td>\n      <td>Sandie Hinetthews</td>\n      <td>True</td>\n    </tr>\n    <tr>\n      <th>6</th>\n      <td>0006_01</td>\n      <td>Earth</td>\n      <td>False</td>\n      <td>F/2/S</td>\n      <td>TRAPPIST-1e</td>\n      <td>26.0</td>\n      <td>False</td>\n      <td>42.0</td>\n      <td>1539.0</td>\n      <td>3.0</td>\n      <td>0.0</td>\n      <td>0.0</td>\n      <td>Billex Jacostaffey</td>\n      <td>True</td>\n    </tr>\n    <tr>\n      <th>7</th>\n      <td>0006_02</td>\n      <td>Earth</td>\n      <td>True</td>\n      <td>G/0/S</td>\n      <td>TRAPPIST-1e</td>\n      <td>28.0</td>\n      <td>False</td>\n      <td>0.0</td>\n      <td>0.0</td>\n      <td>0.0</td>\n      <td>0.0</td>\n      <td>NaN</td>\n      <td>Candra Jacostaffey</td>\n      <td>True</td>\n    </tr>\n    <tr>\n      <th>8</th>\n      <td>0007_01</td>\n      <td>Earth</td>\n      <td>False</td>\n      <td>F/3/S</td>\n      <td>TRAPPIST-1e</td>\n      <td>35.0</td>\n      <td>False</td>\n      <td>0.0</td>\n      <td>785.0</td>\n      <td>17.0</td>\n      <td>216.0</td>\n      <td>0.0</td>\n      <td>Andona Beston</td>\n      <td>True</td>\n    </tr>\n    <tr>\n      <th>9</th>\n      <td>0008_01</td>\n      <td>Europa</td>\n      <td>True</td>\n      <td>B/1/P</td>\n      <td>55 Cancri e</td>\n      <td>14.0</td>\n      <td>False</td>\n      <td>0.0</td>\n      <td>0.0</td>\n      <td>0.0</td>\n      <td>0.0</td>\n      <td>0.0</td>\n      <td>Erraiam Flatic</td>\n      <td>True</td>\n    </tr>\n  </tbody>\n</table>\n</div>"
     },
     "execution_count": 235,
     "metadata": {},
     "output_type": "execute_result"
    }
   ],
   "source": [
    "df.head(10)"
   ],
   "metadata": {
    "collapsed": false
   }
  },
  {
   "cell_type": "code",
   "execution_count": 236,
   "outputs": [
    {
     "data": {
      "text/plain": "          Age  RoomService  FoodCourt  ShoppingMall      Spa   VRDeck\ncount  8514.0       8512.0     8510.0        8485.0   8510.0   8505.0\nmean     29.0        225.0      458.0         174.0    311.0    305.0\nstd      14.0        667.0     1611.0         605.0   1137.0   1146.0\nmin       0.0          0.0        0.0           0.0      0.0      0.0\n25%      19.0          0.0        0.0           0.0      0.0      0.0\n50%      27.0          0.0        0.0           0.0      0.0      0.0\n75%      38.0         47.0       76.0          27.0     59.0     46.0\nmax      79.0      14327.0    29813.0       23492.0  22408.0  24133.0",
      "text/html": "<div>\n<style scoped>\n    .dataframe tbody tr th:only-of-type {\n        vertical-align: middle;\n    }\n\n    .dataframe tbody tr th {\n        vertical-align: top;\n    }\n\n    .dataframe thead th {\n        text-align: right;\n    }\n</style>\n<table border=\"1\" class=\"dataframe\">\n  <thead>\n    <tr style=\"text-align: right;\">\n      <th></th>\n      <th>Age</th>\n      <th>RoomService</th>\n      <th>FoodCourt</th>\n      <th>ShoppingMall</th>\n      <th>Spa</th>\n      <th>VRDeck</th>\n    </tr>\n  </thead>\n  <tbody>\n    <tr>\n      <th>count</th>\n      <td>8514.0</td>\n      <td>8512.0</td>\n      <td>8510.0</td>\n      <td>8485.0</td>\n      <td>8510.0</td>\n      <td>8505.0</td>\n    </tr>\n    <tr>\n      <th>mean</th>\n      <td>29.0</td>\n      <td>225.0</td>\n      <td>458.0</td>\n      <td>174.0</td>\n      <td>311.0</td>\n      <td>305.0</td>\n    </tr>\n    <tr>\n      <th>std</th>\n      <td>14.0</td>\n      <td>667.0</td>\n      <td>1611.0</td>\n      <td>605.0</td>\n      <td>1137.0</td>\n      <td>1146.0</td>\n    </tr>\n    <tr>\n      <th>min</th>\n      <td>0.0</td>\n      <td>0.0</td>\n      <td>0.0</td>\n      <td>0.0</td>\n      <td>0.0</td>\n      <td>0.0</td>\n    </tr>\n    <tr>\n      <th>25%</th>\n      <td>19.0</td>\n      <td>0.0</td>\n      <td>0.0</td>\n      <td>0.0</td>\n      <td>0.0</td>\n      <td>0.0</td>\n    </tr>\n    <tr>\n      <th>50%</th>\n      <td>27.0</td>\n      <td>0.0</td>\n      <td>0.0</td>\n      <td>0.0</td>\n      <td>0.0</td>\n      <td>0.0</td>\n    </tr>\n    <tr>\n      <th>75%</th>\n      <td>38.0</td>\n      <td>47.0</td>\n      <td>76.0</td>\n      <td>27.0</td>\n      <td>59.0</td>\n      <td>46.0</td>\n    </tr>\n    <tr>\n      <th>max</th>\n      <td>79.0</td>\n      <td>14327.0</td>\n      <td>29813.0</td>\n      <td>23492.0</td>\n      <td>22408.0</td>\n      <td>24133.0</td>\n    </tr>\n  </tbody>\n</table>\n</div>"
     },
     "execution_count": 236,
     "metadata": {},
     "output_type": "execute_result"
    }
   ],
   "source": [
    "df.describe().round()"
   ],
   "metadata": {
    "collapsed": false
   }
  },
  {
   "cell_type": "code",
   "execution_count": 237,
   "outputs": [
    {
     "data": {
      "text/plain": "['PassengerId',\n 'HomePlanet',\n 'CryoSleep',\n 'Cabin',\n 'Destination',\n 'VIP',\n 'Name']"
     },
     "execution_count": 237,
     "metadata": {},
     "output_type": "execute_result"
    }
   ],
   "source": [
    "list(df.describe(include='object').round())"
   ],
   "metadata": {
    "collapsed": false
   }
  },
  {
   "cell_type": "code",
   "execution_count": 238,
   "outputs": [],
   "source": [
    "profile = ProfileReport(df, title=\"Pandas Profiling Report\")"
   ],
   "metadata": {
    "collapsed": false
   }
  },
  {
   "cell_type": "code",
   "execution_count": 239,
   "outputs": [
    {
     "name": "stdout",
     "output_type": "stream",
     "text": [
      "Requirement already satisfied: matplotlib in c:\\users\\camara22\\miniconda3\\envs\\titanicspace\\lib\\site-packages (3.5.3)\n",
      "Requirement already satisfied: numpy>=1.17 in c:\\users\\camara22\\miniconda3\\envs\\titanicspace\\lib\\site-packages (from matplotlib) (1.23.3)\n",
      "Requirement already satisfied: kiwisolver>=1.0.1 in c:\\users\\camara22\\miniconda3\\envs\\titanicspace\\lib\\site-packages (from matplotlib) (1.4.4)\n",
      "Requirement already satisfied: python-dateutil>=2.7 in c:\\users\\camara22\\miniconda3\\envs\\titanicspace\\lib\\site-packages (from matplotlib) (2.8.2)\n",
      "Requirement already satisfied: packaging>=20.0 in c:\\users\\camara22\\miniconda3\\envs\\titanicspace\\lib\\site-packages (from matplotlib) (21.3)\n",
      "Requirement already satisfied: cycler>=0.10 in c:\\users\\camara22\\miniconda3\\envs\\titanicspace\\lib\\site-packages (from matplotlib) (0.11.0)\n",
      "Requirement already satisfied: fonttools>=4.22.0 in c:\\users\\camara22\\miniconda3\\envs\\titanicspace\\lib\\site-packages (from matplotlib) (4.37.4)\n",
      "Requirement already satisfied: pyparsing>=2.2.1 in c:\\users\\camara22\\miniconda3\\envs\\titanicspace\\lib\\site-packages (from matplotlib) (3.0.9)\n",
      "Requirement already satisfied: pillow>=6.2.0 in c:\\users\\camara22\\miniconda3\\envs\\titanicspace\\lib\\site-packages (from matplotlib) (9.2.0)\n",
      "Requirement already satisfied: six>=1.5 in c:\\users\\camara22\\miniconda3\\envs\\titanicspace\\lib\\site-packages (from python-dateutil>=2.7->matplotlib) (1.16.0)\n"
     ]
    }
   ],
   "source": [
    "!pip install matplotlib"
   ],
   "metadata": {
    "collapsed": false
   }
  },
  {
   "cell_type": "code",
   "execution_count": 240,
   "outputs": [
    {
     "data": {
      "text/plain": "PassengerId     False\nHomePlanet       True\nCryoSleep        True\nCabin            True\nDestination      True\nAge              True\nVIP              True\nRoomService      True\nFoodCourt        True\nShoppingMall     True\nSpa              True\nVRDeck           True\nName             True\nTransported     False\ndtype: bool"
     },
     "execution_count": 240,
     "metadata": {},
     "output_type": "execute_result"
    }
   ],
   "source": [
    "df.isnull().any()"
   ],
   "metadata": {
    "collapsed": false
   }
  },
  {
   "cell_type": "code",
   "execution_count": 241,
   "outputs": [
    {
     "data": {
      "text/plain": "HomePlanet      2.312205\nCryoSleep       2.496261\nCabin           2.289198\nDestination     2.093639\nAge             2.059128\nVIP             2.335212\nRoomService     2.082135\nFoodCourt       2.105142\nShoppingMall    2.392730\nSpa             2.105142\nVRDeck          2.162660\nName            2.300702\ndtype: float64"
     },
     "execution_count": 241,
     "metadata": {},
     "output_type": "execute_result"
    }
   ],
   "source": [
    "missing = df.isnull().sum()\n",
    "missing[missing>0]*100/len(df)"
   ],
   "metadata": {
    "collapsed": false
   }
  },
  {
   "cell_type": "code",
   "execution_count": 242,
   "outputs": [
    {
     "data": {
      "text/plain": "(8693, 14)"
     },
     "execution_count": 242,
     "metadata": {},
     "output_type": "execute_result"
    }
   ],
   "source": [
    "df.shape"
   ],
   "metadata": {
    "collapsed": false
   }
  },
  {
   "cell_type": "code",
   "execution_count": 243,
   "outputs": [],
   "source": [
    "df=df.dropna()"
   ],
   "metadata": {
    "collapsed": false
   }
  },
  {
   "cell_type": "code",
   "execution_count": 244,
   "outputs": [],
   "source": [
    "df=df.drop_duplicates(keep='first', ignore_index=False)"
   ],
   "metadata": {
    "collapsed": false
   }
  },
  {
   "cell_type": "code",
   "execution_count": 245,
   "outputs": [
    {
     "data": {
      "text/plain": "(6606, 14)"
     },
     "execution_count": 245,
     "metadata": {},
     "output_type": "execute_result"
    }
   ],
   "source": [
    "df.shape"
   ],
   "metadata": {
    "collapsed": false
   }
  },
  {
   "cell_type": "code",
   "execution_count": 246,
   "outputs": [],
   "source": [
    "df.drop(['PassengerId','Name'],axis=1,inplace=True)"
   ],
   "metadata": {
    "collapsed": false
   }
  },
  {
   "cell_type": "code",
   "execution_count": 247,
   "outputs": [],
   "source": [
    "enc = OrdinalEncoder()\n",
    "enc.fit(df[['HomePlanet','CryoSleep','Cabin','Destination','VIP']])\n",
    "df[['HomePlanet','CryoSleep','Cabin','Destination','VIP']] = enc.transform(df[['HomePlanet','CryoSleep','Cabin','Destination','VIP']])"
   ],
   "metadata": {
    "collapsed": false
   }
  },
  {
   "cell_type": "code",
   "execution_count": 248,
   "outputs": [],
   "source": [
    "categorical_cols=df[['HomePlanet','CryoSleep','Cabin','Destination','VIP']]\n",
    "numerical_cols=df[['Age', 'RoomService', 'FoodCourt', 'ShoppingMall', 'Spa', 'VRDeck']]\n",
    "target=df[['Transported']]"
   ],
   "metadata": {
    "collapsed": false
   }
  },
  {
   "cell_type": "code",
   "execution_count": 249,
   "outputs": [],
   "source": [
    "X= pd.concat([categorical_cols, numerical_cols], axis=1)\n",
    "y=target\n"
   ],
   "metadata": {
    "collapsed": false
   }
  },
  {
   "cell_type": "code",
   "execution_count": 250,
   "outputs": [
    {
     "data": {
      "text/plain": "   HomePlanet  CryoSleep   Cabin  Destination  VIP   Age  RoomService  \\\n0         1.0        0.0   137.0          2.0  0.0  39.0          0.0   \n1         0.0        0.0  1823.0          2.0  0.0  24.0        109.0   \n2         1.0        0.0     1.0          2.0  1.0  58.0         43.0   \n3         1.0        0.0     1.0          2.0  0.0  33.0          0.0   \n4         0.0        0.0  1825.0          2.0  0.0  16.0        303.0   \n\n   FoodCourt  ShoppingMall     Spa  VRDeck  \n0        0.0           0.0     0.0     0.0  \n1        9.0          25.0   549.0    44.0  \n2     3576.0           0.0  6715.0    49.0  \n3     1283.0         371.0  3329.0   193.0  \n4       70.0         151.0   565.0     2.0  ",
      "text/html": "<div>\n<style scoped>\n    .dataframe tbody tr th:only-of-type {\n        vertical-align: middle;\n    }\n\n    .dataframe tbody tr th {\n        vertical-align: top;\n    }\n\n    .dataframe thead th {\n        text-align: right;\n    }\n</style>\n<table border=\"1\" class=\"dataframe\">\n  <thead>\n    <tr style=\"text-align: right;\">\n      <th></th>\n      <th>HomePlanet</th>\n      <th>CryoSleep</th>\n      <th>Cabin</th>\n      <th>Destination</th>\n      <th>VIP</th>\n      <th>Age</th>\n      <th>RoomService</th>\n      <th>FoodCourt</th>\n      <th>ShoppingMall</th>\n      <th>Spa</th>\n      <th>VRDeck</th>\n    </tr>\n  </thead>\n  <tbody>\n    <tr>\n      <th>0</th>\n      <td>1.0</td>\n      <td>0.0</td>\n      <td>137.0</td>\n      <td>2.0</td>\n      <td>0.0</td>\n      <td>39.0</td>\n      <td>0.0</td>\n      <td>0.0</td>\n      <td>0.0</td>\n      <td>0.0</td>\n      <td>0.0</td>\n    </tr>\n    <tr>\n      <th>1</th>\n      <td>0.0</td>\n      <td>0.0</td>\n      <td>1823.0</td>\n      <td>2.0</td>\n      <td>0.0</td>\n      <td>24.0</td>\n      <td>109.0</td>\n      <td>9.0</td>\n      <td>25.0</td>\n      <td>549.0</td>\n      <td>44.0</td>\n    </tr>\n    <tr>\n      <th>2</th>\n      <td>1.0</td>\n      <td>0.0</td>\n      <td>1.0</td>\n      <td>2.0</td>\n      <td>1.0</td>\n      <td>58.0</td>\n      <td>43.0</td>\n      <td>3576.0</td>\n      <td>0.0</td>\n      <td>6715.0</td>\n      <td>49.0</td>\n    </tr>\n    <tr>\n      <th>3</th>\n      <td>1.0</td>\n      <td>0.0</td>\n      <td>1.0</td>\n      <td>2.0</td>\n      <td>0.0</td>\n      <td>33.0</td>\n      <td>0.0</td>\n      <td>1283.0</td>\n      <td>371.0</td>\n      <td>3329.0</td>\n      <td>193.0</td>\n    </tr>\n    <tr>\n      <th>4</th>\n      <td>0.0</td>\n      <td>0.0</td>\n      <td>1825.0</td>\n      <td>2.0</td>\n      <td>0.0</td>\n      <td>16.0</td>\n      <td>303.0</td>\n      <td>70.0</td>\n      <td>151.0</td>\n      <td>565.0</td>\n      <td>2.0</td>\n    </tr>\n  </tbody>\n</table>\n</div>"
     },
     "execution_count": 250,
     "metadata": {},
     "output_type": "execute_result"
    }
   ],
   "source": [
    "X.head()"
   ],
   "metadata": {
    "collapsed": false
   }
  },
  {
   "cell_type": "code",
   "execution_count": 251,
   "outputs": [],
   "source": [
    "\n",
    "# Split dataset into training set and test set\n",
    "#random_state generador de numero aleatorios (semilla usada por el generador)\n",
    "X_train, X_test, y_train, y_test = train_test_split(X, y, test_size=0.3, random_state=1) # 70% training and 30% test"
   ],
   "metadata": {
    "collapsed": false
   }
  },
  {
   "cell_type": "code",
   "execution_count": 252,
   "outputs": [
    {
     "data": {
      "text/plain": "HomePlanet      False\nCryoSleep       False\nCabin           False\nDestination     False\nVIP             False\nAge             False\nRoomService     False\nFoodCourt       False\nShoppingMall    False\nSpa             False\nVRDeck          False\ndtype: bool"
     },
     "execution_count": 252,
     "metadata": {},
     "output_type": "execute_result"
    }
   ],
   "source": [
    "X_train.isnull().any()"
   ],
   "metadata": {
    "collapsed": false
   }
  },
  {
   "cell_type": "code",
   "execution_count": 253,
   "outputs": [],
   "source": [
    "clf = DecisionTreeClassifier(criterion='entropy')\n",
    "# Train Decision Tree Classifer\n",
    "clf = clf.fit(X_train,y_train)"
   ],
   "metadata": {
    "collapsed": false
   }
  },
  {
   "cell_type": "code",
   "execution_count": 271,
   "outputs": [
    {
     "name": "stdout",
     "output_type": "stream",
     "text": [
      "Se hacen las predicciones\n"
     ]
    },
    {
     "data": {
      "text/plain": "array([False, False, False, ..., False, False,  True])"
     },
     "execution_count": 271,
     "metadata": {},
     "output_type": "execute_result"
    }
   ],
   "source": [
    "#Predict the response for test dataset\n",
    "print (\"Se hacen las predicciones\")\n",
    "y_pred = clf.predict(X_test)\n",
    "y_pred"
   ],
   "metadata": {
    "collapsed": false
   }
  },
  {
   "cell_type": "code",
   "execution_count": 273,
   "outputs": [
    {
     "name": "stdout",
     "output_type": "stream",
     "text": [
      "[[ 977    0]\n",
      " [   0 1005]]\n"
     ]
    }
   ],
   "source": [
    "# matriz de confusion\n",
    "from sklearn.metrics import confusion_matrix\n",
    "print(confusion_matrix(y_test, y_pred))"
   ],
   "metadata": {
    "collapsed": false
   }
  },
  {
   "cell_type": "code",
   "execution_count": 275,
   "outputs": [
    {
     "name": "stdout",
     "output_type": "stream",
     "text": [
      "              precision    recall  f1-score   support\n",
      "\n",
      "       False       1.00      1.00      1.00       977\n",
      "        True       1.00      1.00      1.00      1005\n",
      "\n",
      "    accuracy                           1.00      1982\n",
      "   macro avg       1.00      1.00      1.00      1982\n",
      "weighted avg       1.00      1.00      1.00      1982\n",
      "\n"
     ]
    }
   ],
   "source": [
    "from sklearn.metrics import classification_report\n",
    "print(classification_report(y_test, y_pred))"
   ],
   "metadata": {
    "collapsed": false
   }
  },
  {
   "cell_type": "code",
   "execution_count": 276,
   "outputs": [
    {
     "name": "stdout",
     "output_type": "stream",
     "text": [
      "( 0.7334243415740838, 0.00943003273732517\n"
     ]
    }
   ],
   "source": [
    "# se efectúa validación cruzada\n",
    "from sklearn import model_selection\n",
    "kFold = model_selection.KFold(n_splits=5)\n",
    "scoring = 'accuracy'\n",
    "puntaje= (model_selection.cross_val_score(clf, X, y,  scoring = scoring, cv = kFold))\n",
    "print (f\"( {puntaje.mean()}, {puntaje.std()}\")"
   ],
   "metadata": {
    "collapsed": false
   }
  },
  {
   "cell_type": "code",
   "execution_count": 281,
   "outputs": [
    {
     "name": "stdout",
     "output_type": "stream",
     "text": [
      "for para calcular la importancia de cada atributo\n"
     ]
    },
    {
     "data": {
      "text/plain": "[('Cabin', 0.2326635352641016),\n ('CryoSleep', 0.21425193237736934),\n ('Age', 0.144127542786389),\n ('FoodCourt', 0.08457144827058818),\n ('ShoppingMall', 0.0777305934436778),\n ('Spa', 0.07033609590903787),\n ('VRDeck', 0.06835320451023098),\n ('RoomService', 0.0478572899502619),\n ('HomePlanet', 0.03697795065953665),\n ('Destination', 0.0214356306151738),\n ('VIP', 0.0016947762136327233)]"
     },
     "execution_count": 281,
     "metadata": {},
     "output_type": "execute_result"
    }
   ],
   "source": [
    "# se obtiene la importancia de cada atributo a partir del arbol\n",
    "print(\"for para calcular la importancia de cada atributo\")\n",
    "\n",
    "# se crea un diccionario\n",
    "diccionario = {}\n",
    "# tree.feature_importances_ se obtiene la importancia de cada atributo\n",
    "#zip  devuelve un iterador de tuplas basado en los objetos iterables\n",
    "for name, importance in zip(X, clf.feature_importances_):\n",
    "    diccionario[name] = importance\n",
    "\n",
    "import operator\n",
    "sortedDict = sorted(diccionario.items(), key=operator.itemgetter(1),reverse=True)\n",
    "\n",
    "sortedDict"
   ],
   "metadata": {
    "collapsed": false
   }
  }
 ],
 "metadata": {
  "kernelspec": {
   "display_name": "Python 3",
   "language": "python",
   "name": "python3"
  },
  "language_info": {
   "codemirror_mode": {
    "name": "ipython",
    "version": 2
   },
   "file_extension": ".py",
   "mimetype": "text/x-python",
   "name": "python",
   "nbconvert_exporter": "python",
   "pygments_lexer": "ipython2",
   "version": "2.7.6"
  }
 },
 "nbformat": 4,
 "nbformat_minor": 0
}
